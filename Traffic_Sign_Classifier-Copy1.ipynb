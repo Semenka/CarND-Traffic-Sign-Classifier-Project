{
 "cells": [
  {
   "cell_type": "markdown",
   "metadata": {},
   "source": [
    "# Self-Driving Car Engineer Nanodegree\n",
    "\n",
    "## Deep Learning\n",
    "\n",
    "## Project: Build a Traffic Sign Recognition Classifier\n",
    "\n",
    "In this notebook, a template is provided for you to implement your functionality in stages which is required to successfully complete this project. If additional code is required that cannot be included in the notebook, be sure that the Python code is successfully imported and included in your submission, if necessary. Sections that begin with **'Implementation'** in the header indicate where you should begin your implementation for your project. Note that some sections of implementation are optional, and will be marked with **'Optional'** in the header.\n",
    "\n",
    "In addition to implementing code, there will be questions that you must answer which relate to the project and your implementation. Each section where you will answer a question is preceded by a **'Question'** header. Carefully read each question and provide thorough answers in the following text boxes that begin with **'Answer:'**. Your project submission will be evaluated based on your answers to each of the questions and the implementation you provide.\n",
    "\n",
    ">**Note:** Code and Markdown cells can be executed using the **Shift + Enter** keyboard shortcut. In addition, Markdown cells can be edited by typically double-clicking the cell to enter edit mode."
   ]
  },
  {
   "cell_type": "markdown",
   "metadata": {},
   "source": [
    "---\n",
    "## Step 0: Load The Data"
   ]
  },
  {
   "cell_type": "code",
   "execution_count": 4,
   "metadata": {
    "collapsed": true
   },
   "outputs": [],
   "source": [
    "# Load pickled data\n",
    "import pickle\n",
    "\n",
    "import numpy as np\n",
    "\n",
    "# TODO: Fill this in based on where you saved the training and testing data\n",
    "\n",
    "training_file = 'train.p'\n",
    "testing_file = 'test.p'\n",
    "\n",
    "with open(training_file, mode='rb') as f:\n",
    "    train = pickle.load(f)\n",
    "with open(testing_file, mode='rb') as f:\n",
    "    test = pickle.load(f)\n",
    "    \n",
    "X_train, y_train = train['features'], train['labels']\n",
    "X_test, y_test = test['features'], test['labels']\n"
   ]
  },
  {
   "cell_type": "markdown",
   "metadata": {},
   "source": [
    "---\n",
    "\n",
    "## Step 1: Dataset Summary & Exploration\n",
    "\n",
    "The pickled data is a dictionary with 4 key/value pairs:\n",
    "\n",
    "- `'features'` is a 4D array containing raw pixel data of the traffic sign images, (num examples, width, height, channels).\n",
    "- `'labels'` is a 2D array containing the label/class id of the traffic sign. The file `signnames.csv` contains id -> name mappings for each id.\n",
    "- `'sizes'` is a list containing tuples, (width, height) representing the the original width and height the image.\n",
    "- `'coords'` is a list containing tuples, (x1, y1, x2, y2) representing coordinates of a bounding box around the sign in the image. **THESE COORDINATES ASSUME THE ORIGINAL IMAGE. THE PICKLED DATA CONTAINS RESIZED VERSIONS (32 by 32) OF THESE IMAGES**\n",
    "\n",
    "Complete the basic data summary below."
   ]
  },
  {
   "cell_type": "code",
   "execution_count": 25,
   "metadata": {
    "collapsed": false
   },
   "outputs": [
    {
     "name": "stdout",
     "output_type": "stream",
     "text": [
      "Number of training examples = 31367\n",
      "Number of testing examples = 12630\n",
      "Image data shape = [29 30]\n",
      "Number of classes = 43\n",
      "[ 1 13  9 ..., 38 25  5]\n"
     ]
    }
   ],
   "source": [
    "### Replace each question mark with the appropriate value.\n",
    "import numpy as np\n",
    "\n",
    "# TODO: Number of training examples\n",
    "n_train = len(X_train)\n",
    "\n",
    "# TODO: Number of testing examples.\n",
    "n_test = len(X_test)\n",
    "\n",
    "# TODO: What's the shape of an traffic sign image?\n",
    "image_shape = train['sizes'][0]\n",
    "\n",
    "# TODO: How many unique classes/labels there are in the dataset.\n",
    "n_classes = len(np.unique(train['labels'],return_counts='true')[0])\n",
    "\n",
    "print(\"Number of training examples =\", n_train)\n",
    "print(\"Number of testing examples =\", n_test)\n",
    "print(\"Image data shape =\", image_shape)\n",
    "print(\"Number of classes =\", n_classes)"
   ]
  },
  {
   "cell_type": "markdown",
   "metadata": {},
   "source": [
    "Visualize the German Traffic Signs Dataset using the pickled file(s). This is open ended, suggestions include: plotting traffic sign images, plotting the count of each sign, etc.\n",
    "\n",
    "The [Matplotlib](http://matplotlib.org/) [examples](http://matplotlib.org/examples/index.html) and [gallery](http://matplotlib.org/gallery.html) pages are a great resource for doing visualizations in Python.\n",
    "\n",
    "**NOTE:** It's recommended you start with something simple first. If you wish to do more, come back to it after you've completed the rest of the sections."
   ]
  },
  {
   "cell_type": "code",
   "execution_count": 3,
   "metadata": {
    "collapsed": false
   },
   "outputs": [
    {
     "name": "stdout",
     "output_type": "stream",
     "text": [
      "25\n"
     ]
    },
    {
     "data": {
      "image/png": "[encoded data removed]",
      "text/plain": [
       "<matplotlib.figure.Figure at 0x10490c0f0>"
      ]
     },
     "metadata": {},
     "output_type": "display_data"
    }
   ],
   "source": [
    "### Data exploration visualization goes here.\n",
    "### Feel free to use as many code cells as needed.\n",
    "import matplotlib.pyplot as plt\n",
    "import random\n",
    "\n",
    "# Visualizations will be shown in the notebook.\n",
    "%matplotlib inline\n",
    "\n",
    "index = random.randint(0, len(X_train))\n",
    "image = X_train[index].squeeze()\n",
    "\n",
    "plt.figure(figsize=(1,1))\n",
    "plt.imshow(image)\n",
    "print(y_train[index])"
   ]
  },
  {
   "cell_type": "markdown",
   "metadata": {},
   "source": [
    "----\n",
    "\n",
    "## Step 2: Design and Test a Model Architecture\n",
    "\n",
    "Design and implement a deep learning model that learns to recognize traffic signs. Train and test your model on the [German Traffic Sign Dataset](http://benchmark.ini.rub.de/?section=gtsrb&subsection=dataset).\n",
    "\n",
    "There are various aspects to consider when thinking about this problem:\n",
    "\n",
    "- Neural network architecture\n",
    "- Play around preprocessing techniques (normalization, rgb to grayscale, etc)\n",
    "- Number of examples per label (some have more than others).\n",
    "- Generate fake data.\n",
    "\n",
    "Here is an example of a [published baseline model on this problem](http://yann.lecun.com/exdb/publis/pdf/sermanet-ijcnn-11.pdf). It's not required to be familiar with the approach used in the paper but, it's good practice to try to read papers like these.\n",
    "\n",
    "**NOTE:** The LeNet-5 implementation shown in the [classroom](https://classroom.udacity.com/nanodegrees/nd013/parts/fbf77062-5703-404e-b60c-95b78b2f3f9e/modules/6df7ae49-c61c-4bb2-a23e-6527e69209ec/lessons/601ae704-1035-4287-8b11-e2c2716217ad/concepts/d4aca031-508f-4e0b-b493-e7b706120f81) at the end of the CNN lesson is a solid starting point. You'll have to change the number of classes and possibly the preprocessing, but aside from that it's plug and play!"
   ]
  },
  {
   "cell_type": "markdown",
   "metadata": {},
   "source": [
    "### Implementation\n",
    "\n",
    "Use the code cell (or multiple code cells, if necessary) to implement the first step of your project. Once you have completed your implementation and are satisfied with the results, be sure to thoroughly answer the questions that follow."
   ]
  },
  {
   "cell_type": "code",
   "execution_count": 4,
   "metadata": {
    "collapsed": true
   },
   "outputs": [],
   "source": [
    "### Preprocess the data here.\n",
    "### Feel free to use as many code cells as needed.\n",
    "from sklearn.utils import shuffle\n",
    "\n",
    "X_train, y_train = shuffle(X_train, y_train)"
   ]
  },
  {
   "cell_type": "markdown",
   "metadata": {},
   "source": [
    "### Question 1 \n",
    "\n",
    "_Describe how you preprocessed the data. Why did you choose that technique?_"
   ]
  },
  {
   "cell_type": "markdown",
   "metadata": {},
   "source": [
    "I've shuffled the training data set to remove bias due to the ordering of the data"
   ]
  },
  {
   "cell_type": "code",
   "execution_count": 5,
   "metadata": {
    "collapsed": true
   },
   "outputs": [],
   "source": [
    "### Generate data additional data (OPTIONAL!)\n",
    "### and split the data into training/validation/testing sets here.\n",
    "### Feel free to use as many code cells as needed.\n",
    "from sklearn.model_selection import train_test_split\n",
    "X_train, X_validation, y_train, y_validation = train_test_split(X_train, y_train, test_size=0.2, random_state=0)\n"
   ]
  },
  {
   "cell_type": "markdown",
   "metadata": {},
   "source": [
    "### Question 2\n",
    "\n",
    "_Describe how you set up the training, validation and testing data for your model. **Optional**: If you generated additional data, how did you generate the data? Why did you generate the data? What are the differences in the new dataset (with generated data) from the original dataset?_"
   ]
  },
  {
   "cell_type": "markdown",
   "metadata": {},
   "source": [
    "Initial data set has been splitted into 2 parts: training and testing. Then from training data set 80% has been taken for valisation data. "
   ]
  },
  {
   "cell_type": "code",
   "execution_count": 6,
   "metadata": {
    "collapsed": true
   },
   "outputs": [],
   "source": [
    "### Define your architecture here.\n",
    "### Feel free to use as many code cells as needed.\n",
    "import tensorflow as tf\n",
    "from tensorflow.contrib.layers import flatten\n",
    "\n",
    "EPOCHS = 10\n",
    "BATCH_SIZE = 128\n",
    "\n",
    "\n",
    "def LeNet(x):  \n",
    "    # Hyperparameters\n",
    "    mu = 0\n",
    "    sigma = 0.1\n",
    "    # SOLUTION: Layer 1: Convolutional. Input = 32x32x1. Output = 28x28x6.\n",
    "    conv1_W = tf.Variable(tf.truncated_normal(shape=(5, 5, 3, 6), mean = mu, stddev = sigma))\n",
    "    conv1_b = tf.Variable(tf.zeros(6))\n",
    "    conv1   = tf.nn.conv2d(x, conv1_W, strides=[1, 1, 1, 1], padding='VALID') + conv1_b\n",
    "\n",
    "    # SOLUTION: Activation.\n",
    "    conv1 = tf.nn.relu(conv1)\n",
    "\n",
    "    # SOLUTION: Pooling. Input = 28x28x6. Output = 14x14x6.\n",
    "    conv1 = tf.nn.max_pool(conv1, ksize=[1, 2, 2, 1], strides=[1, 2, 2, 1], padding='VALID')\n",
    "\n",
    "    # SOLUTION: Layer 2: Convolutional. Output = 10x10x16.\n",
    "    conv2_W = tf.Variable(tf.truncated_normal(shape=(5, 5, 6, 16), mean = mu, stddev = sigma))\n",
    "    conv2_b = tf.Variable(tf.zeros(16))\n",
    "    conv2   = tf.nn.conv2d(conv1, conv2_W, strides=[1, 1, 1, 1], padding='VALID') + conv2_b\n",
    "    \n",
    "    # SOLUTION: Activation.\n",
    "    conv2 = tf.nn.relu(conv2)\n",
    "\n",
    "    # SOLUTION: Pooling. Input = 10x10x16. Output = 5x5x16.\n",
    "    conv2 = tf.nn.max_pool(conv2, ksize=[1, 2, 2, 1], strides=[1, 2, 2, 1], padding='VALID')\n",
    "\n",
    "    # SOLUTION: Flatten. Input = 5x5x16. Output = 400.\n",
    "    fc0   = flatten(conv2)\n",
    "    \n",
    "    # SOLUTION: Layer 3: Fully Connected. Input = 400. Output = 120.\n",
    "    fc1_W = tf.Variable(tf.truncated_normal(shape=(400, 120), mean = mu, stddev = sigma))\n",
    "    fc1_b = tf.Variable(tf.zeros(120))\n",
    "    fc1   = tf.matmul(fc0, fc1_W) + fc1_b\n",
    "    \n",
    "    # SOLUTION: Activation.\n",
    "    fc1    = tf.nn.relu(fc1)\n",
    "\n",
    "    # SOLUTION: Layer 4: Fully Connected. Input = 120. Output = 84.\n",
    "    fc2_W  = tf.Variable(tf.truncated_normal(shape=(120, 84), mean = mu, stddev = sigma))\n",
    "    fc2_b  = tf.Variable(tf.zeros(84))\n",
    "    fc2    = tf.matmul(fc1, fc2_W) + fc2_b\n",
    "    \n",
    "    # SOLUTION: Activation.\n",
    "    fc2    = tf.nn.relu(fc2)\n",
    "\n",
    "    # SOLUTION: Layer 5: Fully Connected. Input = 84. Output = 43.\n",
    "    fc3_W  = tf.Variable(tf.truncated_normal(shape=(84, 43), mean = mu, stddev = sigma))\n",
    "    fc3_b  = tf.Variable(tf.zeros(43))\n",
    "    logits = tf.matmul(fc2, fc3_W) + fc3_b\n",
    "    \n",
    "    return logits"
   ]
  },
  {
   "cell_type": "markdown",
   "metadata": {},
   "source": [
    "### Question 3\n",
    "\n",
    "_What does your final architecture look like? (Type of model, layers, sizes, connectivity, etc.)  For reference on how to build a deep neural network using TensorFlow, see [Deep Neural Network in TensorFlow\n",
    "](https://classroom.udacity.com/nanodegrees/nd013/parts/fbf77062-5703-404e-b60c-95b78b2f3f9e/modules/6df7ae49-c61c-4bb2-a23e-6527e69209ec/lessons/b516a270-8600-4f93-a0a3-20dfeabe5da6/concepts/83a3a2a2-a9bd-4b7b-95b0-eb924ab14432) from the classroom._\n"
   ]
  },
  {
   "cell_type": "markdown",
   "metadata": {},
   "source": [
    "I've used the baisc LeNet network architecture changing only 2 thing: taking into account color pictures of signs and 43 output classis of signs in data set."
   ]
  },
  {
   "cell_type": "code",
   "execution_count": 9,
   "metadata": {
    "collapsed": false
   },
   "outputs": [
    {
     "name": "stdout",
     "output_type": "stream",
     "text": [
      "Training...\n",
      "\n",
      "EPOCH 1 ...\n",
      "Validation Accuracy = 0.653\n",
      "\n",
      "EPOCH 2 ...\n",
      "Validation Accuracy = 0.849\n",
      "\n",
      "EPOCH 3 ...\n",
      "Validation Accuracy = 0.898\n",
      "\n",
      "EPOCH 4 ...\n",
      "Validation Accuracy = 0.924\n",
      "\n",
      "EPOCH 5 ...\n",
      "Validation Accuracy = 0.937\n",
      "\n",
      "EPOCH 6 ...\n",
      "Validation Accuracy = 0.940\n",
      "\n",
      "EPOCH 7 ...\n",
      "Validation Accuracy = 0.956\n",
      "\n",
      "EPOCH 8 ...\n",
      "Validation Accuracy = 0.957\n",
      "\n",
      "EPOCH 9 ...\n",
      "Validation Accuracy = 0.955\n",
      "\n",
      "EPOCH 10 ...\n",
      "Validation Accuracy = 0.956\n",
      "\n",
      "Model saved\n"
     ]
    }
   ],
   "source": [
    "### Train your model here.\n",
    "### Feel free to use as many code cells as needed.\n",
    "x = tf.placeholder(tf.float32, (None, 32, 32, 3))\n",
    "y = tf.placeholder(tf.int32, (None))\n",
    "one_hot_y = tf.one_hot(y, 43)\n",
    "\n",
    "rate = 0.001\n",
    "\n",
    "logits = LeNet(x)\n",
    "cross_entropy = tf.nn.softmax_cross_entropy_with_logits(logits, one_hot_y)\n",
    "loss_operation = tf.reduce_mean(cross_entropy)\n",
    "optimizer = tf.train.AdamOptimizer(learning_rate = rate)\n",
    "training_operation = optimizer.minimize(loss_operation)\n",
    "\n",
    "correct_prediction = tf.equal(tf.argmax(logits, 1), tf.argmax(one_hot_y, 1))\n",
    "accuracy_operation = tf.reduce_mean(tf.cast(correct_prediction, tf.float32))\n",
    "saver = tf.train.Saver()\n",
    "\n",
    "def evaluate(X_data, y_data):\n",
    "    num_examples = len(X_data)\n",
    "    total_accuracy = 0\n",
    "    sess = tf.get_default_session()\n",
    "    for offset in range(0, num_examples, BATCH_SIZE):\n",
    "        batch_x, batch_y = X_data[offset:offset+BATCH_SIZE], y_data[offset:offset+BATCH_SIZE]\n",
    "        accuracy = sess.run(accuracy_operation, feed_dict={x: batch_x, y: batch_y})\n",
    "        total_accuracy += (accuracy * len(batch_x))\n",
    "    return total_accuracy / num_examples\n",
    "\n",
    "with tf.Session() as sess:\n",
    "    sess.run(tf.global_variables_initializer())\n",
    "    num_examples = len(X_train)\n",
    "    \n",
    "    print(\"Training...\")\n",
    "    print()\n",
    "    for i in range(EPOCHS):\n",
    "        X_train, y_train = shuffle(X_train, y_train)\n",
    "        for offset in range(0, num_examples, BATCH_SIZE):\n",
    "            end = offset + BATCH_SIZE\n",
    "            batch_x, batch_y = X_train[offset:end], y_train[offset:end]\n",
    "            sess.run(training_operation, feed_dict={x: batch_x, y: batch_y})\n",
    "            \n",
    "        validation_accuracy = evaluate(X_validation, y_validation)\n",
    "        print(\"EPOCH {} ...\".format(i+1))\n",
    "        print(\"Validation Accuracy = {:.3f}\".format(validation_accuracy))\n",
    "        print()\n",
    "        \n",
    "    saver.save(sess, 'lenet')\n",
    "    print(\"Model saved\")"
   ]
  },
  {
   "cell_type": "markdown",
   "metadata": {},
   "source": [
    "### Question 4\n",
    "\n",
    "_How did you train your model? (Type of optimizer, batch size, epochs, hyperparameters, etc.)_\n"
   ]
  },
  {
   "cell_type": "markdown",
   "metadata": {},
   "source": [
    "I've defined AdamOptimizaer as a type of optimizer, used cross_entropy as a funtion for minimization, set 10 epochs (have tried 15-time is longer but accuracy is on plateu) and 128 signs as a banch size. Learning rate is set to 0.001 (tried 0.01 but starts with low accuracy)."
   ]
  },
  {
   "cell_type": "markdown",
   "metadata": {},
   "source": [
    "### Question 5\n",
    "\n",
    "\n",
    "_What approach did you take in coming up with a solution to this problem? It may have been a process of trial and error, in which case, outline the steps you took to get to the final solution and why you chose those steps. Perhaps your solution involved an already well known implementation or architecture. In this case, discuss why you think this is suitable for the current problem._"
   ]
  },
  {
   "cell_type": "markdown",
   "metadata": {},
   "source": [
    "I'v used already known architecture of CNN used for classification on numbers and applied the same CNN to traffic sign clasisifcation. Tasks are similar, that is why this CNN is performing well for both tasks."
   ]
  },
  {
   "cell_type": "markdown",
   "metadata": {},
   "source": [
    "---\n",
    "\n",
    "## Step 3: Test a Model on New Images\n",
    "\n",
    "Take several pictures of traffic signs that you find on the web or around you (at least five), and run them through your classifier on your computer to produce example results. The classifier might not recognize some local signs but it could prove interesting nonetheless.\n",
    "\n",
    "You may find `signnames.csv` useful as it contains mappings from the class id (integer) to the actual sign name."
   ]
  },
  {
   "cell_type": "markdown",
   "metadata": {},
   "source": [
    "### Implementation\n",
    "\n",
    "Use the code cell (or multiple code cells, if necessary) to implement the first step of your project. Once you have completed your implementation and are satisfied with the results, be sure to thoroughly answer the questions that follow."
   ]
  },
  {
   "cell_type": "code",
   "execution_count": 37,
   "metadata": {
    "collapsed": false
   },
   "outputs": [
    {
     "data": {
      "image/png": "[encoded data removed]",
      "text/plain": [
       "<matplotlib.figure.Figure at 0x13bf7e160>"
      ]
     },
     "metadata": {},
     "output_type": "display_data"
    }
   ],
   "source": [
    "### Load the images and plot them here.\n",
    "### Feel free to use as many code cells as needed.\n",
    "import matplotlib.pyplot as plt\n",
    "%matplotlib inline\n",
    "from PIL import Image\n",
    "\n",
    "image = Image.open('3.jpg')\n",
    "image = image.resize((32,32))\n",
    "plt.imshow(image)\n",
    "X_test[0]=image\n",
    "y_test[0]=3\n",
    "\n",
    "image = Image.open('2.jpg')\n",
    "image = image.resize((32,32))\n",
    "plt.imshow(image)\n",
    "X_test[1]=image\n",
    "y_test[1]=2\n",
    "\n",
    "image = Image.open('17.jpg')\n",
    "image = image.resize((32,32))\n",
    "plt.imshow(image)\n",
    "X_test[2]=image\n",
    "y_test[2]=17\n",
    "\n",
    "image = Image.open('14.jpg')\n",
    "image = image.resize((32,32))\n",
    "plt.imshow(image)\n",
    "X_test[3]=image\n",
    "y_test[3]=14\n",
    "\n",
    "image = Image.open('27.jpg')\n",
    "image = image.resize((32,32))\n",
    "plt.imshow(image)\n",
    "X_test[4]=image\n",
    "y_test[4]=27\n"
   ]
  },
  {
   "cell_type": "markdown",
   "metadata": {},
   "source": [
    "### Question 6\n",
    "\n",
    "_Choose five candidate images of traffic signs and provide them in the report. Are there any particular qualities of the image(s) that might make classification difficult? It could be helpful to plot the images in the notebook._\n",
    "\n"
   ]
  },
  {
   "cell_type": "markdown",
   "metadata": {},
   "source": [
    "The clasisifcation of images could be difficult due to the following reasons: low lighning, angle"
   ]
  },
  {
   "cell_type": "code",
   "execution_count": 39,
   "metadata": {
    "collapsed": false
   },
   "outputs": [
    {
     "name": "stdout",
     "output_type": "stream",
     "text": [
      "Test Accuracy Interne Images = 0.200\n",
      "Test Accuracy Test Data Set = 0.878\n"
     ]
    }
   ],
   "source": [
    "### Run the predictions here.\n",
    "### Feel free to use as many code cells as needed.\n",
    "with tf.Session() as sess:\n",
    "    saver.restore(sess, tf.train.latest_checkpoint('.'))\n",
    "    test_accuracy = evaluate(X_test[0:5], y_test[0:5])\n",
    "    print(\"Test Accuracy Internet Images = {:.3f}\".format(test_accuracy))\n",
    "    test_accuracy_test = evaluate(X_test[5:], y_test[5:])\n",
    "    print(\"Test Accuracy Test Data Set = {:.3f}\".format(test_accuracy_test))\n",
    "\n"
   ]
  },
  {
   "cell_type": "markdown",
   "metadata": {},
   "source": [
    "### Question 7\n",
    "\n",
    "_Is your model able to perform equally well on captured pictures when compared to testing on the dataset? The simplest way to do this check the accuracy of the predictions. For example, if the model predicted 1 out of 5 signs correctly, it's 20% accurate._\n",
    "\n",
    "_**NOTE:** You could check the accuracy manually by using `signnames.csv` (same directory). This file has a mapping from the class id (0-42) to the corresponding sign name. So, you could take the class id the model outputs, lookup the name in `signnames.csv` and see if it matches the sign from the image._\n"
   ]
  },
  {
   "cell_type": "markdown",
   "metadata": {},
   "source": [
    "CNN accuracy on test data set is much higher compare to the images from internet. One of the reasons could be due to the degradation of the quality in the resizing process."
   ]
  },
  {
   "cell_type": "code",
   "execution_count": 5,
   "metadata": {
    "collapsed": false
   },
   "outputs": [
    {
     "name": "stdout",
     "output_type": "stream",
     "text": [
      "[[[[  6.47023468e-26   6.30511685e-16   1.00000000e+00]\n",
      "   [  1.29958149e-24   1.71390838e-15   1.00000000e+00]\n",
      "   [  3.53262839e-24   1.71390838e-15   1.00000000e+00]\n",
      "   ..., \n",
      "   [  2.86251861e-20   2.54366569e-13   1.00000000e+00]\n",
      "   [  1.92874989e-22   5.10908937e-12   1.00000000e+00]\n",
      "   [  2.86251861e-20   1.38879437e-11   1.00000000e+00]]\n",
      "\n",
      "  [[  3.22134028e-27   1.71390838e-15   1.00000000e+00]\n",
      "   [  2.38026637e-26   1.71390838e-15   1.00000000e+00]\n",
      "   [  6.47023468e-26   1.71390838e-15   1.00000000e+00]\n",
      "   ..., \n",
      "   [  1.75879226e-25   4.65888619e-15   1.00000000e+00]\n",
      "   [  9.60267995e-24   1.26641658e-14   1.00000000e+00]\n",
      "   [  7.09547441e-23   1.26641658e-14   1.00000000e+00]]\n",
      "\n",
      "  [[  1.75879226e-25   4.65888619e-15   1.00000000e+00]\n",
      "   [  6.47023468e-26   4.65888619e-15   1.00000000e+00]\n",
      "   [  6.47023468e-26   1.26641658e-14   1.00000000e+00]\n",
      "   ..., \n",
      "   [  2.38026637e-26   6.30511685e-16   1.00000000e+00]\n",
      "   [  1.75879226e-25   6.30511685e-16   1.00000000e+00]\n",
      "   [  1.75879226e-25   1.71390838e-15   1.00000000e+00]]\n",
      "\n",
      "  ..., \n",
      "  [[  1.92874989e-22   9.35762291e-14   1.00000000e+00]\n",
      "   [  5.24288570e-22   9.35762291e-14   1.00000000e+00]\n",
      "   [  3.87399781e-21   2.54366569e-13   1.00000000e+00]\n",
      "   ..., \n",
      "   [  3.53262839e-24   1.26641658e-14   1.00000000e+00]\n",
      "   [  2.61027905e-23   1.26641658e-14   1.00000000e+00]\n",
      "   [  3.53262839e-24   4.65888619e-15   1.00000000e+00]]\n",
      "\n",
      "  [[  1.92874989e-22   9.35762291e-14   1.00000000e+00]\n",
      "   [  3.53262839e-24   1.71390838e-15   1.00000000e+00]\n",
      "   [  9.60267995e-24   6.30511685e-16   1.00000000e+00]\n",
      "   ..., \n",
      "   [  3.53262839e-24   1.26641658e-14   1.00000000e+00]\n",
      "   [  1.42516414e-21   2.54366569e-13   1.00000000e+00]\n",
      "   [  2.61027905e-23   6.91440015e-13   1.00000000e+00]]\n",
      "\n",
      "  [[  1.29958149e-24   1.26641658e-14   1.00000000e+00]\n",
      "   [  1.29958149e-24   3.44247708e-14   1.00000000e+00]\n",
      "   [  1.05306175e-20   9.35762291e-14   1.00000000e+00]\n",
      "   ..., \n",
      "   [  2.61027905e-23   2.54366569e-13   1.00000000e+00]\n",
      "   [  1.92874989e-22   2.54366569e-13   1.00000000e+00]\n",
      "   [  4.78089300e-25   9.35762291e-14   1.00000000e+00]]]\n",
      "\n",
      "\n",
      " [[[  1.66993614e-05   9.99859929e-01   1.23392514e-04]\n",
      "   [  9.99089003e-01   9.11051233e-04   3.77169511e-11]\n",
      "   [  9.99983311e-01   1.67014223e-05   2.54362314e-13]\n",
      "   ..., \n",
      "   [  9.99952316e-01   2.26022166e-06   4.53977664e-05]\n",
      "   [  9.79629219e-01   2.42825807e-03   1.79425348e-02]\n",
      "   [  9.90867496e-01   6.67641265e-03   2.45611509e-03]]\n",
      "\n",
      "  [[  1.23388963e-04   9.99831200e-01   4.53922657e-05]\n",
      "   [  9.99983311e-01   1.67014223e-05   2.54362314e-13]\n",
      "   [  9.99999642e-01   3.05902205e-07   4.65888450e-15]\n",
      "   ..., \n",
      "   [  9.99981046e-01   2.26028669e-06   1.67013841e-05]\n",
      "   [  1.00000000e+00   1.02618795e-10   2.78946810e-10]\n",
      "   [  1.00000000e+00   4.13993746e-08   4.13993746e-08]]\n",
      "\n",
      "  [[  6.14389546e-06   9.99948382e-01   4.53975881e-05]\n",
      "   [  9.97527421e-01   2.47262348e-03   1.02365061e-10]\n",
      "   [  9.99997735e-01   2.26032421e-06   3.44246929e-14]\n",
      "   ..., \n",
      "   [  9.96620893e-01   9.08800634e-04   2.47037620e-03]\n",
      "   [  9.99981046e-01   2.26028669e-06   1.67013841e-05]\n",
      "   [  9.99831200e-01   4.53922657e-05   1.23388963e-04]]\n",
      "\n",
      "  ..., \n",
      "  [[  7.27475166e-01   2.67623156e-01   4.90168901e-03]\n",
      "   [  9.99983311e-01   1.67014223e-05   2.78942147e-10]\n",
      "   [  9.99999166e-01   8.31528041e-07   3.77513125e-11]\n",
      "   ..., \n",
      "   [  9.86703277e-01   6.64835423e-03   6.64835423e-03]\n",
      "   [  9.99995470e-01   2.26031921e-06   2.26031921e-06]\n",
      "   [  9.99619246e-01   4.53826433e-05   3.35334887e-04]]\n",
      "\n",
      "  [[  9.36239541e-01   4.66126204e-02   1.71478260e-02]\n",
      "   [  9.99993801e-01   6.14417422e-06   4.13991188e-08]\n",
      "   [  9.99997735e-01   2.26032421e-06   2.06114903e-09]\n",
      "   ..., \n",
      "   [  2.11941555e-01   2.11941555e-01   5.76116860e-01]\n",
      "   [  9.09443021e-01   4.52785008e-02   4.52785008e-02]\n",
      "   [  9.95067000e-01   2.46652449e-03   2.46652449e-03]]\n",
      "\n",
      "  [[  9.95067000e-01   2.46652449e-03   2.46652449e-03]\n",
      "   [  9.99993801e-01   6.14417422e-06   4.13991188e-08]\n",
      "   [  9.99997735e-01   2.26032421e-06   7.58254293e-10]\n",
      "   ..., \n",
      "   [  4.87855554e-01   2.42888965e-02   4.87855554e-01]\n",
      "   [  9.50330257e-01   2.35563330e-03   4.73141558e-02]\n",
      "   [  9.86703277e-01   6.64835423e-03   6.64835423e-03]]]\n",
      "\n",
      "\n",
      " [[[  9.99992967e-01   6.14416922e-06   8.31522868e-07]\n",
      "   [  9.99992967e-01   6.14416922e-06   8.31522868e-07]\n",
      "   [  9.99991536e-01   6.14416058e-06   2.26031034e-06]\n",
      "   ..., \n",
      "   [  9.98965859e-01   1.23282181e-04   9.10938950e-04]\n",
      "   [  9.97404635e-01   1.23089514e-04   2.47231894e-03]\n",
      "   [  9.99043643e-01   4.53565117e-05   9.11009905e-04]]\n",
      "\n",
      "  [[  9.99999166e-01   8.31528041e-07   4.13993391e-08]\n",
      "   [  9.99999642e-01   3.05902205e-07   1.52299737e-08]\n",
      "   [  9.99993682e-01   6.14417377e-06   1.12534465e-07]\n",
      "   ..., \n",
      "   [  9.99937892e-01   1.67006638e-05   4.53971115e-05]\n",
      "   [  9.99831200e-01   4.53922657e-05   1.23388963e-04]\n",
      "   [  9.99831200e-01   1.23388963e-04   4.53922657e-05]]\n",
      "\n",
      "  [[  1.00000000e+00   1.52299791e-08   1.02618795e-10]\n",
      "   [  9.99999642e-01   3.05902205e-07   2.06115303e-09]\n",
      "   [  9.99999881e-01   1.12535162e-07   2.06115347e-09]\n",
      "   ..., \n",
      "   [  9.99999642e-01   3.05902205e-07   1.52299737e-08]\n",
      "   [  9.99997377e-01   2.26032353e-06   3.05901523e-07]\n",
      "   [  9.99997616e-01   2.26032398e-06   1.12534906e-07]]\n",
      "\n",
      "  ..., \n",
      "  [[  8.66813302e-01   1.58762392e-02   1.17310420e-01]\n",
      "   [  8.66813302e-01   1.58762392e-02   1.17310420e-01]\n",
      "   [  2.59496450e-01   3.51190232e-02   7.05384493e-01]\n",
      "   ..., \n",
      "   [  9.09443021e-01   4.52785008e-02   4.52785008e-02]\n",
      "   [  9.36239541e-01   4.66126204e-02   1.71478260e-02]\n",
      "   [  7.86985993e-01   1.06506974e-01   1.06506974e-01]]\n",
      "\n",
      "  [[  8.43794703e-01   4.20100652e-02   1.14195190e-01]\n",
      "   [  9.46499169e-01   6.37746137e-03   4.71234173e-02]\n",
      "   [  9.79629219e-01   2.42825807e-03   1.79425348e-02]\n",
      "   ..., \n",
      "   [  9.50330257e-01   4.73141558e-02   2.35563330e-03]\n",
      "   [  8.66813302e-01   1.17310420e-01   1.58762392e-02]\n",
      "   [  7.86985993e-01   1.06506974e-01   1.06506974e-01]]\n",
      "\n",
      "  [[  8.43794703e-01   4.20100652e-02   1.14195190e-01]\n",
      "   [  9.86703277e-01   6.64835423e-03   6.64835423e-03]\n",
      "   [  9.99948382e-01   4.53975881e-05   6.14389546e-06]\n",
      "   ..., \n",
      "   [  7.05384552e-01   2.59496480e-01   3.51190269e-02]\n",
      "   [  5.76116920e-01   2.11941570e-01   2.11941570e-01]\n",
      "   [  7.05384552e-01   2.59496480e-01   3.51190269e-02]]]\n",
      "\n",
      "\n",
      " ..., \n",
      " [[[  4.53565117e-05   9.11009905e-04   9.99043643e-01]\n",
      "   [  1.23282167e-04   9.10938834e-04   9.98965740e-01]\n",
      "   [  3.35044722e-04   9.10745992e-04   9.98754263e-01]\n",
      "   ..., \n",
      "   [  9.08800517e-04   2.47037597e-03   9.96620774e-01]\n",
      "   [  3.35044722e-04   9.10745992e-04   9.98754263e-01]\n",
      "   [  3.35044722e-04   9.10745992e-04   9.98754263e-01]]\n",
      "\n",
      "  [[  3.35044722e-04   9.10745992e-04   9.98754263e-01]\n",
      "   [  1.23353209e-04   3.35308781e-04   9.99541402e-01]\n",
      "   [  3.35044722e-04   9.10745992e-04   9.98754263e-01]\n",
      "   ..., \n",
      "   [  3.35044722e-04   9.10745992e-04   9.98754263e-01]\n",
      "   [  3.35237710e-04   3.35237710e-04   9.99329567e-01]\n",
      "   [  3.35237710e-04   3.35237710e-04   9.99329567e-01]]\n",
      "\n",
      "  [[  2.46652425e-03   2.46652425e-03   9.95066881e-01]\n",
      "   [  9.10221948e-04   9.10221948e-04   9.98179555e-01]\n",
      "   [  2.46652425e-03   2.46652425e-03   9.95066881e-01]\n",
      "   ..., \n",
      "   [  9.08800517e-04   2.47037597e-03   9.96620774e-01]\n",
      "   [  2.46652425e-03   2.46652425e-03   9.95066881e-01]\n",
      "   [  9.10745992e-04   3.35044722e-04   9.98754263e-01]]\n",
      "\n",
      "  ..., \n",
      "  [[  6.57326262e-03   1.78679805e-02   9.75558698e-01]\n",
      "   [  2.45611509e-03   6.67641265e-03   9.90867496e-01]\n",
      "   [  9.04959219e-04   6.68679457e-03   9.92408276e-01]\n",
      "   ..., \n",
      "   [  1.66993614e-05   1.23392514e-04   9.99859929e-01]\n",
      "   [  6.14389592e-06   4.53975917e-05   9.99948502e-01]\n",
      "   [  1.66993614e-05   1.23392514e-04   9.99859929e-01]]\n",
      "\n",
      "  [[  2.45611509e-03   6.67641265e-03   9.90867496e-01]\n",
      "   [  2.45611509e-03   6.67641265e-03   9.90867496e-01]\n",
      "   [  9.04959219e-04   6.68679457e-03   9.92408276e-01]\n",
      "   ..., \n",
      "   [  1.66993614e-05   1.23392514e-04   9.99859929e-01]\n",
      "   [  6.14389592e-06   4.53975917e-05   9.99948502e-01]\n",
      "   [  2.26022166e-06   4.53977664e-05   9.99952316e-01]]\n",
      "\n",
      "  [[  2.45611509e-03   6.67641265e-03   9.90867496e-01]\n",
      "   [  2.45611509e-03   6.67641265e-03   9.90867496e-01]\n",
      "   [  9.04959219e-04   6.68679457e-03   9.92408276e-01]\n",
      "   ..., \n",
      "   [  6.14341616e-06   1.23393809e-04   9.99870420e-01]\n",
      "   [  2.26022166e-06   4.53977664e-05   9.99952316e-01]\n",
      "   [  2.26004545e-06   1.23394289e-04   9.99874353e-01]]]\n",
      "\n",
      "\n",
      " [[[  5.10908763e-12   3.05902205e-07   9.99999642e-01]\n",
      "   [  1.52299666e-08   8.31528041e-07   9.99999166e-01]\n",
      "   [  1.79425348e-02   2.42825807e-03   9.79629219e-01]\n",
      "   ..., \n",
      "   [  6.69062184e-03   3.33106436e-04   9.92976308e-01]\n",
      "   [  4.68310505e-01   6.33789375e-02   4.68310505e-01]\n",
      "   [  1.14195190e-01   4.20100652e-02   8.43794703e-01]]\n",
      "\n",
      "  [[  1.02618782e-10   1.12535162e-07   9.99999881e-01]\n",
      "   [  1.67014077e-05   8.31514171e-07   9.99982476e-01]\n",
      "   [  9.11009905e-04   4.53565117e-05   9.99043643e-01]\n",
      "   ..., \n",
      "   [  6.69062184e-03   3.33106436e-04   9.92976308e-01]\n",
      "   [  8.66813302e-01   1.17310420e-01   1.58762392e-02]\n",
      "   [  4.68310505e-01   6.33789375e-02   4.68310505e-01]]\n",
      "\n",
      "  [[  1.87952887e-12   1.52299791e-08   1.00000000e+00]\n",
      "   [  1.87952887e-12   2.06115369e-09   1.00000000e+00]\n",
      "   [  1.87952887e-12   7.58256014e-10   1.00000000e+00]\n",
      "   ..., \n",
      "   [  1.06506981e-01   1.06506981e-01   7.86986053e-01]\n",
      "   [  9.81997669e-01   1.79859158e-02   1.64010307e-05]\n",
      "   [  9.36239541e-01   1.71478260e-02   4.66126204e-02]]\n",
      "\n",
      "  ..., \n",
      "  [[  4.52785008e-02   4.52785008e-02   9.09443021e-01]\n",
      "   [  4.52785008e-02   4.52785008e-02   9.09443021e-01]\n",
      "   [  4.66126204e-02   1.71478260e-02   9.36239541e-01]\n",
      "   ..., \n",
      "   [  6.67641265e-03   2.45611509e-03   9.90867496e-01]\n",
      "   [  3.35044722e-04   9.10745992e-04   9.98754263e-01]\n",
      "   [  4.22318816e-01   4.22318816e-01   1.55362412e-01]]\n",
      "\n",
      "  [[  1.14195190e-01   4.20100652e-02   8.43794703e-01]\n",
      "   [  2.44728476e-01   9.00305733e-02   6.65240943e-01]\n",
      "   [  2.44728476e-01   9.00305733e-02   6.65240943e-01]\n",
      "   ..., \n",
      "   [  9.04959219e-04   6.68679457e-03   9.92408276e-01]\n",
      "   [  8.94679513e-04   1.79701187e-02   9.81135190e-01]\n",
      "   [  7.21399188e-01   2.65387923e-01   1.32128876e-02]]\n",
      "\n",
      "  [[  1.14195190e-01   4.20100652e-02   8.43794703e-01]\n",
      "   [  1.14195190e-01   4.20100652e-02   8.43794703e-01]\n",
      "   [  4.68310505e-01   6.33789375e-02   4.68310505e-01]\n",
      "   ..., \n",
      "   [  6.14211376e-06   3.35348042e-04   9.99658465e-01]\n",
      "   [  1.71478260e-02   4.66126204e-02   9.36239541e-01]\n",
      "   [  8.80090237e-01   1.19107261e-01   8.02538416e-04]]]\n",
      "\n",
      "\n",
      " [[[  4.52785008e-02   4.52785008e-02   9.09443021e-01]\n",
      "   [  4.52785008e-02   4.52785008e-02   9.09443021e-01]\n",
      "   [  1.14195190e-01   4.20100652e-02   8.43794703e-01]\n",
      "   ..., \n",
      "   [  1.14195190e-01   4.20100652e-02   8.43794703e-01]\n",
      "   [  1.14195190e-01   4.20100652e-02   8.43794703e-01]\n",
      "   [  4.66126204e-02   1.71478260e-02   9.36239541e-01]]\n",
      "\n",
      "  [[  1.14195190e-01   4.20100652e-02   8.43794703e-01]\n",
      "   [  4.52785008e-02   4.52785008e-02   9.09443021e-01]\n",
      "   [  4.52785008e-02   4.52785008e-02   9.09443021e-01]\n",
      "   ..., \n",
      "   [  2.44728476e-01   9.00305733e-02   6.65240943e-01]\n",
      "   [  1.14195190e-01   4.20100652e-02   8.43794703e-01]\n",
      "   [  4.66126204e-02   1.71478260e-02   9.36239541e-01]]\n",
      "\n",
      "  [[  4.68310505e-01   6.33789375e-02   4.68310505e-01]\n",
      "   [  1.14195190e-01   4.20100652e-02   8.43794703e-01]\n",
      "   [  4.52785008e-02   4.52785008e-02   9.09443021e-01]\n",
      "   ..., \n",
      "   [  2.44728476e-01   9.00305733e-02   6.65240943e-01]\n",
      "   [  1.14195190e-01   4.20100652e-02   8.43794703e-01]\n",
      "   [  4.66126204e-02   1.71478260e-02   9.36239541e-01]]\n",
      "\n",
      "  ..., \n",
      "  [[  1.17310427e-01   1.58762410e-02   8.66813362e-01]\n",
      "   [  1.14195190e-01   4.20100652e-02   8.43794703e-01]\n",
      "   [  1.14195190e-01   4.20100652e-02   8.43794703e-01]\n",
      "   ..., \n",
      "   [  1.14195190e-01   4.20100652e-02   8.43794703e-01]\n",
      "   [  1.14195190e-01   4.20100652e-02   8.43794703e-01]\n",
      "   [  1.14195190e-01   4.20100652e-02   8.43794703e-01]]\n",
      "\n",
      "  [[  4.66126204e-02   1.71478260e-02   9.36239541e-01]\n",
      "   [  4.66126204e-02   1.71478260e-02   9.36239541e-01]\n",
      "   [  4.66126204e-02   1.71478260e-02   9.36239541e-01]\n",
      "   ..., \n",
      "   [  4.52785008e-02   4.52785008e-02   9.09443021e-01]\n",
      "   [  1.06506981e-01   1.06506981e-01   7.86986053e-01]\n",
      "   [  2.44728476e-01   9.00305733e-02   6.65240943e-01]]\n",
      "\n",
      "  [[  4.52785008e-02   4.52785008e-02   9.09443021e-01]\n",
      "   [  1.14195190e-01   4.20100652e-02   8.43794703e-01]\n",
      "   [  2.59496450e-01   3.51190232e-02   7.05384493e-01]\n",
      "   ..., \n",
      "   [  4.52785008e-02   4.52785008e-02   9.09443021e-01]\n",
      "   [  4.20100652e-02   1.14195190e-01   8.43794703e-01]\n",
      "   [  1.06506981e-01   1.06506981e-01   7.86986053e-01]]]]\n"
     ]
    }
   ],
   "source": [
    "### Visualize the softmax probabilities here.\n",
    "### Feel free to use as many code cells as needed.\n",
    "import tensorflow as tf\n",
    "x = tf.placeholder(tf.float32,shape=[12630, 32, 32, 3])\n",
    "y=tf.nn.softmax(x, name=None)\n",
    "\n",
    "with tf.Session() as sess:\n",
    "    #saver.restore(sess, tf.train.latest_checkpoint('.'))\n",
    "    out=sess.run(y, feed_dict={x:X_test})   \n",
    "    print(out)\n",
    "    "
   ]
  },
  {
   "cell_type": "markdown",
   "metadata": {},
   "source": [
    "### Question 8\n",
    "\n",
    "*Use the model's softmax probabilities to visualize the **certainty** of its predictions, [`tf.nn.top_k`](https://www.tensorflow.org/versions/r0.12/api_docs/python/nn.html#top_k) could prove helpful here. Which predictions is the model certain of? Uncertain? If the model was incorrect in its initial prediction, does the correct prediction appear in the top k? (k should be 5 at most)*\n",
    "\n",
    "`tf.nn.top_k` will return the values and indices (class ids) of the top k predictions. So if k=3, for each sign, it'll return the 3 largest probabilities (out of a possible 43) and the correspoding class ids.\n",
    "\n",
    "Take this numpy array as an example:\n",
    "\n",
    "```\n",
    "# (5, 6) array\n",
    "a = np.array([[ 0.24879643,  0.07032244,  0.12641572,  0.34763842,  0.07893497,\n",
    "         0.12789202],\n",
    "       [ 0.28086119,  0.27569815,  0.08594638,  0.0178669 ,  0.18063401,\n",
    "         0.15899337],\n",
    "       [ 0.26076848,  0.23664738,  0.08020603,  0.07001922,  0.1134371 ,\n",
    "         0.23892179],\n",
    "       [ 0.11943333,  0.29198961,  0.02605103,  0.26234032,  0.1351348 ,\n",
    "         0.16505091],\n",
    "       [ 0.09561176,  0.34396535,  0.0643941 ,  0.16240774,  0.24206137,\n",
    "         0.09155967]])\n",
    "```\n",
    "\n",
    "Running it through `sess.run(tf.nn.top_k(tf.constant(a), k=3))` produces:\n",
    "\n",
    "```\n",
    "TopKV2(values=array([[ 0.34763842,  0.24879643,  0.12789202],\n",
    "       [ 0.28086119,  0.27569815,  0.18063401],\n",
    "       [ 0.26076848,  0.23892179,  0.23664738],\n",
    "       [ 0.29198961,  0.26234032,  0.16505091],\n",
    "       [ 0.34396535,  0.24206137,  0.16240774]]), indices=array([[3, 0, 5],\n",
    "       [0, 1, 4],\n",
    "       [0, 5, 1],\n",
    "       [1, 3, 5],\n",
    "       [1, 4, 3]], dtype=int32))\n",
    "```\n",
    "\n",
    "Looking just at the first row we get `[ 0.34763842,  0.24879643,  0.12789202]`, you can confirm these are the 3 largest probabilities in `a`. You'll also notice `[3, 0, 5]` are the corresponding indices."
   ]
  },
  {
   "cell_type": "markdown",
   "metadata": {},
   "source": [
    "**Answer:**"
   ]
  },
  {
   "cell_type": "markdown",
   "metadata": {},
   "source": [
    "> **Note**: Once you have completed all of the code implementations and successfully answered each question above, you may finalize your work by exporting the iPython Notebook as an HTML document. You can do this by using the menu above and navigating to  \\n\",\n",
    "    \"**File -> Download as -> HTML (.html)**. Include the finished document along with this notebook as your submission."
   ]
  },
  {
   "cell_type": "code",
   "execution_count": null,
   "metadata": {
    "collapsed": true
   },
   "outputs": [],
   "source": []
  }
 ],
 "metadata": {
  "anaconda-cloud": {},
  "kernelspec": {
   "display_name": "Python [default]",
   "language": "python",
   "name": "python3"
  },
  "language_info": {
   "codemirror_mode": {
    "name": "ipython",
    "version": 3
   },
   "file_extension": ".py",
   "mimetype": "text/x-python",
   "name": "python",
   "nbconvert_exporter": "python",
   "pygments_lexer": "ipython3",
   "version": "3.5.2"
  }
 },
 "nbformat": 4,
 "nbformat_minor": 1
}
